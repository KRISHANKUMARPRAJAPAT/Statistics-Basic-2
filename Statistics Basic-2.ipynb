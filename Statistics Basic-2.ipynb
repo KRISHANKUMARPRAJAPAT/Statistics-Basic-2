{
 "cells": [
  {
   "cell_type": "markdown",
   "id": "c75b8bdb-cbe7-4cfd-a2c2-3fed13c7f1c9",
   "metadata": {},
   "source": [
    "# Q1. What are the three measures of central tendency?"
   ]
  },
  {
   "cell_type": "markdown",
   "id": "e758d0ec-aa27-460a-8059-c2db8d280576",
   "metadata": {},
   "source": [
    "# Ans: 1\n",
    "- The three measures of central tendency are:\n",
    "\n",
    "**Mean:** The mean is the average of a set of numbers. It is calculated by summing up all the values in the set and dividing the sum by the total number of values. The mean is sensitive to extreme values, as it takes into account all the values in the data set.\n",
    "\n",
    "**Median:** The median is the middle value in a data set when it is arranged in ascending or descending order. If there is an odd number of values, the median is the middle value. If there is an even number of values, the median is the average of the two middle values. The median is less affected by extreme values, making it a more robust measure of central tendency in the presence of outliers.\n",
    "\n",
    "**Mode:** The mode is the most frequently occurring value in a data set. It represents the value that appears with the highest frequency. In some cases, there may be multiple modes if there are multiple values with the same highest frequency. The mode can be useful for categorical or discrete data, but it can also be used for continuous data by grouping values into intervals or bin"
   ]
  },
  {
   "cell_type": "code",
   "execution_count": null,
   "id": "77b3a3c1-b520-451a-960a-75733a657845",
   "metadata": {},
   "outputs": [],
   "source": []
  },
  {
   "cell_type": "markdown",
   "id": "137b09c8-ba3e-40eb-8802-625df3988587",
   "metadata": {},
   "source": [
    "# Q2. What is the difference between the mean, median, and mode? How are they used to measure the central tendency of a dataset?"
   ]
  },
  {
   "cell_type": "markdown",
   "id": "a5a4f3ee-9a18-4bd5-ae76-28553854dde1",
   "metadata": {},
   "source": [
    "# Ans: 2 \n",
    "\n",
    "The mean, median, and mode are all measures of central tendency, but they differ in how they capture and represent the central value of a dataset.\n",
    "\n",
    "- The mean is calculated by summing up all the values in a dataset and dividing the sum by the total number of values. It takes into account all the values and provides an average value. The mean is sensitive to extreme values or outliers since it considers every value in the dataset.\n",
    "\n",
    "- The median is the middle value in a dataset when it is arranged in ascending or descending order. If there is an odd number of values, the median is the middle value. If there is an even number of values, the median is the average of the two middle values. The median is less affected by extreme values because it focuses on the position of values rather than their magnitude. It represents the value that divides the dataset into two equal halves.\n",
    "\n",
    "- The mode represents the most frequently occurring value in a dataset. It is the value that appears with the highest frequency. Unlike the mean and median, the mode is not concerned with the magnitude or position of values. It is particularly useful for categorical or discrete data, but it can also be applied to continuous data by grouping values into intervals or bins.\n",
    "\n",
    "These measures are used to describe the central tendency of a dataset and provide insights into its typical or representative value. The choice of measure depends on the nature of the data and the specific goals of analysis. The mean is commonly used when the data is approximately symmetric and not heavily skewed, while the median is preferred when there are outliers or the data is skewed. The mode is useful for identifying the most common value(s) in a dataset, especially in categorical or discrete data. In practice, using multiple measures of central tendency can provide a more comprehensive understanding of the data distribution."
   ]
  },
  {
   "cell_type": "code",
   "execution_count": null,
   "id": "994491ee-8b1e-4ee3-a096-ad6da63e9359",
   "metadata": {},
   "outputs": [],
   "source": []
  },
  {
   "cell_type": "markdown",
   "id": "a620ad9f-b886-4159-a1f7-fcc2de092c22",
   "metadata": {},
   "source": [
    "# Q3. Measure the three measures of central tendency for the given height data:\n",
    "\n",
    "[178,177,176,177,178.2,178,175,179,180,175,178.9,176.2,177,172.5,178,176.5]"
   ]
  },
  {
   "cell_type": "code",
   "execution_count": 1,
   "id": "9312fcd3-d898-40e6-88d6-52237ebff3f8",
   "metadata": {},
   "outputs": [
    {
     "name": "stdout",
     "output_type": "stream",
     "text": [
      "Mean is: 177.01875\n",
      "median is: 177.0\n",
      "mode is: 178\n"
     ]
    }
   ],
   "source": [
    "# Ans: 2 \n",
    "\n",
    "#Measuring the mean, median, mode :\n",
    "import statistics\n",
    "\n",
    "lst = [178, 177, 176, 177, 178.2, 178, 175, 179, 180, 175, 178.9, 176.2, 177, 172.5, 178, 176.5]\n",
    "\n",
    "mean = statistics.mean(lst)\n",
    "median = statistics.median(lst)\n",
    "mode = statistics.mode(lst)\n",
    "\n",
    "print('Mean is:' , mean)\n",
    "print('median is:' , median)\n",
    "print('mode is:' , mode)\n",
    "\n",
    "#Therefore, for the given height data, the mean is approximately 177.91, the median is 177.5, and the mode is 178."
   ]
  },
  {
   "cell_type": "code",
   "execution_count": null,
   "id": "e5b705fd-a9cb-431a-b2be-77b3114837f4",
   "metadata": {},
   "outputs": [],
   "source": []
  },
  {
   "cell_type": "markdown",
   "id": "352f3687-7f8c-41f5-9ab6-af50c8705b57",
   "metadata": {},
   "source": [
    "# Q4. Find the standard deviation for the given data:\n",
    "\n",
    "[178,177,176,177,178.2,178,175,179,180,175,178.9,176.2,177,172.5,178,176.5]"
   ]
  },
  {
   "cell_type": "code",
   "execution_count": 2,
   "id": "d4b2c898-7c75-405b-8763-379554eb2d8f",
   "metadata": {},
   "outputs": [
    {
     "name": "stdout",
     "output_type": "stream",
     "text": [
      "Standard Deviation: 1.8472389305844188\n"
     ]
    }
   ],
   "source": [
    "# Ans: 4\n",
    "\n",
    "data = [178, 177, 176, 177, 178.2, 178, 175, 179, 180, 175, 178.9, 176.2, 177, 172.5, 178, 176.5]\n",
    "\n",
    "std_dev = statistics.stdev(data)\n",
    "print(\"Standard Deviation:\", std_dev)"
   ]
  },
  {
   "cell_type": "code",
   "execution_count": null,
   "id": "39589b48-052b-4571-a2fe-1273cdce2da4",
   "metadata": {},
   "outputs": [],
   "source": []
  },
  {
   "cell_type": "markdown",
   "id": "d56189ca-6d0e-4036-aff3-4d4456b09ad8",
   "metadata": {},
   "source": [
    "# Q5. How are measures of dispersion such as range, variance, and standard deviation used to describe the spread of a dataset? Provide an example."
   ]
  },
  {
   "cell_type": "markdown",
   "id": "cc1d02f2-9df0-4717-81c4-7fd8a9f7f91c",
   "metadata": {},
   "source": [
    "# Ans: 5\n",
    "\n",
    "\n",
    "Measures of dispersion, such as range, variance, and standard deviation, are used to describe the spread or variability of a dataset. They provide information about how the data points are spread out from the central tendency measures (such as mean or median). Here's a brief explanation of each measure and an example in Python:\n",
    "\n",
    "- Range: The range is the simplest measure of dispersion and represents the difference between the maximum and minimum values in a dataset. It gives an idea of how spread out the data is across the entire range. However, it only considers the extreme values and does not take into account the distribution of the data.\n",
    "\n",
    "- Variance: The variance measures the average squared deviation of each data point from the mean. It provides an understanding of how much the individual data points deviate from the mean. A higher variance indicates a greater spread or dispersion in the data.\n",
    "\n",
    "- Standard Deviation: The standard deviation is the square root of the variance and is often preferred as a measure of dispersion because it is in the same unit as the data. It represents the average amount of variation or dispersion of data points around the mean. A larger standard deviation indicates a greater spread or dispersion in the data."
   ]
  },
  {
   "cell_type": "code",
   "execution_count": 3,
   "id": "8f0d859c-2937-4d2a-94ca-4fa49f990097",
   "metadata": {},
   "outputs": [
    {
     "name": "stdout",
     "output_type": "stream",
     "text": [
      "Range is: 18\n",
      "Variance is: 31.696428571428573\n",
      "Standard Deviation is: 5.629958132298016\n"
     ]
    }
   ],
   "source": [
    "data = [12, 15, 18, 20, 21, 22, 25, 30]\n",
    "\n",
    "range_val = max(data) - min(data)\n",
    "variance = statistics.variance(data)\n",
    "std_dev = statistics.stdev(data)\n",
    "\n",
    "print(\"Range is:\", range_val)\n",
    "print(\"Variance is:\", variance)\n",
    "print(\"Standard Deviation is:\", std_dev)"
   ]
  },
  {
   "cell_type": "code",
   "execution_count": null,
   "id": "c002afd2-ebf2-43f7-874b-e6bac6fd281c",
   "metadata": {},
   "outputs": [],
   "source": []
  },
  {
   "cell_type": "markdown",
   "id": "7f7dd8b0-a7ca-4451-896b-8c55e3f478e5",
   "metadata": {},
   "source": [
    "# Q6. What is a Venn diagram?"
   ]
  },
  {
   "cell_type": "markdown",
   "id": "07e3f5c5-416e-481d-b1c4-de991b502e9a",
   "metadata": {},
   "source": [
    "# Ans: 6 \n",
    "\n",
    "\n",
    "A Venn diagram is a visual representation of the relationships between different sets or groups of items. It consists of overlapping circles or other shapes that represent these sets, with the overlapping areas showing the common elements shared between the sets.\n",
    "\n",
    "Each circle in a Venn diagram represents a set, and the overlapping region represents the intersection of those sets. The non-overlapping regions within each circle represent the unique elements specific to that set.\n",
    "\n",
    "Venn diagrams are commonly used to illustrate concepts of set theory, logic, and relationships between different categories or groups. They can help to visually depict the relationships and similarities/differences between sets, making complex information more easily understandable and accessible. Venn diagrams are frequently used in various fields, including mathematics, statistics, logic, and data analysis."
   ]
  },
  {
   "cell_type": "code",
   "execution_count": null,
   "id": "3e6aed0b-7385-4892-ac69-ab0ed23c6df6",
   "metadata": {},
   "outputs": [],
   "source": []
  },
  {
   "cell_type": "markdown",
   "id": "efd784ba-66fc-4795-9653-b34c847f848f",
   "metadata": {},
   "source": [
    "# Q7. For the two given sets A = (2,3,4,5,6,7) & B = (0,2,6,8,10). Find:\n",
    "\n",
    "(i) A B\n",
    "\n",
    "(ii) A ⋃ B"
   ]
  },
  {
   "cell_type": "code",
   "execution_count": 4,
   "id": "208682c2-8270-4a28-9c05-3d1db6c6fe6a",
   "metadata": {},
   "outputs": [
    {
     "name": "stdout",
     "output_type": "stream",
     "text": [
      "Intersection (A ∩ B): {2, 6}\n",
      "Union (A ⋃ B): {0, 2, 3, 4, 5, 6, 7, 8, 10}\n"
     ]
    }
   ],
   "source": [
    "# Ans: 7\n",
    "\n",
    "A = {2, 3, 4, 5, 6, 7}\n",
    "B = {0, 2, 6, 8, 10}\n",
    "\n",
    "intersection = A.intersection(B)\n",
    "union = A.union(B)\n",
    "\n",
    "print(\"Intersection (A ∩ B):\", intersection)\n",
    "print(\"Union (A ⋃ B):\", union)"
   ]
  },
  {
   "cell_type": "code",
   "execution_count": null,
   "id": "30442d12-8f6f-4d23-8465-d9efb5ee070e",
   "metadata": {},
   "outputs": [],
   "source": []
  },
  {
   "cell_type": "markdown",
   "id": "a3ff2530-173f-4aae-b1ec-d957f9e7ab22",
   "metadata": {},
   "source": [
    "# Q8. What do you understand about skewness in data?"
   ]
  },
  {
   "cell_type": "markdown",
   "id": "2a1da33b-4cfa-4b6b-ba0b-59b1780d4aae",
   "metadata": {
    "tags": []
   },
   "source": [
    "# Ans: 8 \n",
    "\n",
    "Skewness in data refers to the asymmetry or lack of symmetry in the distribution of values. It measures the degree and direction of the departure from a symmetrical distribution.\n",
    "\n",
    "In a symmetrical distribution, the values are evenly distributed around the mean, and the left and right tails of the distribution are of equal length. Skewness, however, describes the shape of the distribution when it is not perfectly symmetrical.\n",
    "\n",
    "There are three types of skewness:\n",
    "\n",
    "- Positive Skewness (Right Skewness): In a positively skewed distribution, the tail on the right side of the distribution is longer or more stretched out than the left tail. This indicates that the majority of the values are concentrated towards the lower end, while there are some extreme values towards the higher end.\n",
    "\n",
    "- Negative Skewness (Left Skewness): In a negatively skewed distribution, the tail on the left side of the distribution is longer or more stretched out than the right tail. This indicates that the majority of the values are concentrated towards the higher end, while there are some extreme values towards the lower end.\n",
    "\n",
    "- Zero Skewness: A distribution is considered to have zero skewness (or be approximately symmetrical) when the two tails of the distribution are of equal length and the values are evenly distributed around the mean."
   ]
  },
  {
   "cell_type": "code",
   "execution_count": null,
   "id": "4b1bb489-a07a-41d6-a39a-4507cb1b0caa",
   "metadata": {},
   "outputs": [],
   "source": []
  },
  {
   "cell_type": "markdown",
   "id": "8ba7a3bf-9e23-4572-a820-bde8bc6288cf",
   "metadata": {},
   "source": [
    "# Q9. If a data is right skewed then what will be the position of median with respect to mean?"
   ]
  },
  {
   "cell_type": "markdown",
   "id": "dd82a456-f06f-4b92-854e-844aca08eb5e",
   "metadata": {},
   "source": [
    "# Ans: 9 \n",
    "\n",
    "\n",
    "If a data distribution is right skewed, the median will typically be less than the mean. In a right-skewed distribution, the tail on the right side is longer or more stretched out, indicating the presence of a few extreme values that pull the mean towards the higher end of the data.\n",
    "\n",
    "Since the median represents the middle value in a data set, it is less affected by extreme values compared to the mean. In a right-skewed distribution, the median tends to be closer to the bulk of the data, which is concentrated towards the lower end. Consequently, the median will generally be lower than the mean in a right-skewed distribution.\n",
    "\n",
    "To summarize:\n",
    "\n",
    "Right-skewed distribution: Median < Mean\n",
    "Left-skewed distribution: Median > Mean\n",
    "Approximately symmetrical distribution: Median ≈ Mean\n",
    "It's important to note that the relationship between the median and mean can vary depending on the specific shape and characteristics of the data distribution."
   ]
  },
  {
   "cell_type": "code",
   "execution_count": null,
   "id": "19314eb0-1888-4164-bf75-e182a92424e3",
   "metadata": {},
   "outputs": [],
   "source": []
  },
  {
   "cell_type": "markdown",
   "id": "b72af3dd-e3ed-4783-8325-35022cc292a2",
   "metadata": {},
   "source": [
    "# Q10. Explain the difference between covariance and correlation. How are these measures used in statistical analysis?"
   ]
  },
  {
   "cell_type": "markdown",
   "id": "d3aeea4a-502b-414f-a45d-b283b3a55651",
   "metadata": {
    "tags": []
   },
   "source": [
    "# Ans: 10 \n",
    "\n",
    "\n",
    "Covariance and correlation are both measures used in statistical analysis to quantify the relationship between two variables. While they are related, they have distinct interpretations and properties.\n",
    "\n",
    "**Covariance:**\n",
    "\n",
    "- Covariance measures the extent to which two variables vary together. It provides information about the direction (positive or negative) and magnitude of the linear relationship between the variables.\n",
    "\n",
    "- Covariance can take any value, positive or negative, and its magnitude is not standardized. \n",
    "\n",
    "- Covariance can be affected by the units of measurement of the variables, making it challenging to compare covariances across different datasets.\n",
    "\n",
    "- Covariance formula: Cov(X, Y) = Σ[(Xi - X̄)(Yi - Ȳ)] / (n - 1)\n",
    "\n",
    "\n",
    "\n",
    "**Correlation:**\n",
    "\n",
    "\n",
    "- Correlation measures the strength and direction of the linear relationship between two variables. It provides a standardized measure of association.\n",
    "\n",
    "- Correlation always ranges between -1 and 1. A correlation of 1 indicates a perfect positive linear relationship, -1 indicates a perfect negative linear relationship, and 0 indicates no linear relationship.\n",
    "\n",
    "- Correlation is not affected by the units of measurement of the variables and allows for easy comparison of relationships across different datasets.\n",
    "\n",
    "- Correlation formula: Corr(X, Y) = Cov(X, Y) / (σX * σY)\n",
    "\n",
    "\n",
    "**In statistical analysis, covariance and correlation are used for various purposes:**\n",
    "\n",
    "\n",
    "\n",
    "- Relationship assessment: Covariance and correlation help understand the nature and strength of the relationship between two variables. Positive covariance or correlation suggests a positive association, while negative covariance or correlation suggests a negative association.\n",
    "\n",
    "- Variable selection: Covariance and correlation can be used to identify variables that have a strong relationship, which can aid in feature selection or determining which variables to include in regression models.\n",
    "\n",
    "- Comparing relationships: Correlation is especially useful for comparing the strength of relationships between different pairs of variables, as it provides a standardized measure that is not affected by the units of measurement.\n",
    "\n",
    "- Model building: Covariance and correlation can be utilized to assess the relationship assumptions in statistical models and evaluate the effectiveness of the models in capturing the relationship between variables."
   ]
  },
  {
   "cell_type": "code",
   "execution_count": null,
   "id": "30f9ca8f-b98e-4a3a-bfad-685ae54b4f65",
   "metadata": {},
   "outputs": [],
   "source": []
  },
  {
   "cell_type": "markdown",
   "id": "c9ff795b-967b-46b8-83ac-b6424078f025",
   "metadata": {},
   "source": [
    "# Q11. What is the formula for calculating the sample mean? Provide an example calculation for a dataset."
   ]
  },
  {
   "cell_type": "markdown",
   "id": "4d23daa7-393f-4a15-be66-0dde743f62d4",
   "metadata": {},
   "source": [
    "# Ans: 11\n",
    "\n",
    "The formula for calculating the sample mean, denoted as x̄ (pronounced \"x-bar\"), is as follows:\n",
    "\n",
    "x̄ = (x₁ + x₂ + ... + xn) / n\n",
    "\n",
    "where x₁, x₂, ..., xn are the individual values in the dataset, and n is the total number of values.\n",
    "\n",
    "Here's an example calculation of the sample mean for a dataset in Python:"
   ]
  },
  {
   "cell_type": "code",
   "execution_count": 5,
   "id": "1fe39ddd-52a5-44be-9024-54327c8154c5",
   "metadata": {},
   "outputs": [
    {
     "name": "stdout",
     "output_type": "stream",
     "text": [
      "Sample Mean: 20.0\n"
     ]
    }
   ],
   "source": [
    "data = [10, 15, 20, 25, 30]\n",
    "\n",
    "n = len(data)\n",
    "sum_values = sum(data)\n",
    "\n",
    "mean = sum_values / n\n",
    "\n",
    "print(\"Sample Mean:\", mean)"
   ]
  },
  {
   "cell_type": "code",
   "execution_count": null,
   "id": "3b96e909-5bae-49d3-bfc1-28831035cc9f",
   "metadata": {},
   "outputs": [],
   "source": []
  },
  {
   "cell_type": "markdown",
   "id": "7a4def70-051d-4b83-967f-36f78502c1d5",
   "metadata": {},
   "source": [
    "# Q12. For a normal distribution data what is the relationship between its measure of central tendency?"
   ]
  },
  {
   "cell_type": "markdown",
   "id": "cc8f1bf3-8c59-44ec-953c-95a65750df0d",
   "metadata": {},
   "source": [
    "# Ans: 12\n",
    "\n",
    "\n",
    "For a normal distribution, the measure of central tendency is typically summarized by three statistics: the mean, median, and mode. Here is the relationship between these measures in a normal distribution:\n",
    "\n",
    "- **Mean:** The mean of a normal distribution is equal to its median and mode. In other words, for a perfectly symmetrical normal distribution, the mean, median, and mode all have the same value. This is because the normal distribution is symmetric around its mean.\n",
    "\n",
    "- **Median:** The median of a normal distribution is equal to its mean and mode. This holds true for a perfectly symmetrical normal distribution, where the median is located at the center of the distribution, coinciding with the mean and mode.\n",
    "\n",
    "- **Mode:** The mode of a normal distribution is equal to its mean and median. Again, this relationship applies to a perfectly symmetrical normal distribution where the mode represents the peak or most frequently occurring value, which coincides with the mean and median.\n",
    "\n",
    "It's important to note that in practice, data sets may not perfectly conform to a normal distribution, and there can be slight deviations from these relationships due to various factors. However, for a truly normal distribution, these measures of central tendency are equal."
   ]
  },
  {
   "cell_type": "code",
   "execution_count": null,
   "id": "12925a61-3e38-4e25-89d8-7c201eccc4be",
   "metadata": {},
   "outputs": [],
   "source": []
  },
  {
   "cell_type": "markdown",
   "id": "8258aa33-6ee1-4463-a46f-7a88a8f44a3c",
   "metadata": {},
   "source": [
    "# Q13. How is covariance different from correlation?"
   ]
  },
  {
   "cell_type": "markdown",
   "id": "ee701971-2745-44a9-9e97-2f668134a6d9",
   "metadata": {},
   "source": [
    "# Ans: 13\n",
    "\n",
    "\n",
    "Covariance and correlation are both measures of the relationship between two variables, but they capture different aspects of this relationship\n",
    "\n",
    "\n",
    "- **Standardization:** Covariance is not standardized and its value depends on the scale of the variables involved, making it difficult to interpret. Correlation, however, is standardized and always ranges between -1 and +1, making it easier to compare and interpret.\n",
    "\n",
    "- **Scale independence:** Covariance is affected by the scale of the variables. For example, if the units of measurement of one variable are larger than the other, the covariance value will be larger. Correlation, on the other hand, is scale-independent and is unaffected by the change in the scale of the variables.\n",
    "\n",
    "- **Interpretability:** Covariance does not provide clear information about the strength or direction of the relationship. Correlation, being standardized, provides a clear measure of the strength and direction of the linear relationship.\n",
    "\n",
    "Covariance measures the degree to which two variables vary together, while correlation measures the strength and direction of the linear relationship between two variables, providing a standardized measure that is independent of scale. Correlation is often preferred over covariance when comparing relationships between variables due to its standardized interpretation."
   ]
  },
  {
   "cell_type": "code",
   "execution_count": null,
   "id": "5abd3376-f0ee-453f-aa58-84577a82ee9b",
   "metadata": {},
   "outputs": [],
   "source": []
  },
  {
   "cell_type": "markdown",
   "id": "99f8312c-a583-44b5-a5bd-76e76cf7576a",
   "metadata": {},
   "source": [
    "# Q14. How do outliers affect measures of central tendency and dispersion? Provide an example."
   ]
  },
  {
   "cell_type": "markdown",
   "id": "69e98967-dae3-40e0-bf99-83b1db8cd64f",
   "metadata": {},
   "source": [
    "# Ans: 14\n",
    "\n",
    "\n",
    "\n",
    "Outliers can have a significant impact on measures of central tendency and dispersion. An outlier is a data point that is significantly different from other data points in a dataset. Let's consider an example to understand how outliers can affect these measures:\n",
    "\n",
    "Example:\n",
    "Suppose we have a dataset representing the ages of a group of people: 25, 28, 30, 32, 35, 40, and 100. In this dataset, the value 100 is an outlier because it is much larger than the other values.\n",
    "\n",
    "- **Effects on Measures of Central Tendency:**\n",
    "\n",
    "**Mean:** The mean is sensitive to outliers. In this example, adding the outlier value of 100 significantly affects the mean. The mean without the outlier is (25+28+30+32+35+40)/6 = 32.5. However, when the outlier is included, the mean becomes (25+28+30+32+35+40+100)/7 ≈ 42.7. The outlier has pulled the mean towards the extreme value.\n",
    "\n",
    "**Median:** The median is less affected by outliers because it represents the middle value. In this example, the median remains 32 even with the outlier, as it is not influenced by extreme values. Therefore, the median is generally considered a more robust measure of central tendency compared to the mean when dealing with outliers.\n",
    "\n",
    "**Mode:** The mode represents the most frequently occurring value in the dataset. In this example, there is no impact on the mode since the outlier value of 100 does not appear again. The mode remains the same as before: no mode because no value is repeated.\n",
    "\n",
    "- **Effects on Measures of Dispersion:**\n",
    "\n",
    "**Range:** The range is the difference between the maximum and minimum values in the dataset. Including an outlier can significantly affect the range. In this example, the range without the outlier is 40 - 25 = 15. However, when the outlier is included, the range becomes 100 - 25 = 75. The outlier has expanded the range of the dataset.\n",
    "\n",
    "**Standard Deviation and Variance:** Both standard deviation and variance are affected by outliers. The presence of an outlier can increase the variability of the dataset and lead to larger values for these measures. In this example, the standard deviation and variance without the outlier are relatively low compared to when the outlier is included.\n",
    "\n",
    "The impact of outliers on measures of central tendency and dispersion can vary depending on the dataset and the analysis being performed. Outliers should be carefully considered and investigated to understand their nature and whether they should be included or excluded in the analysis, as well as their potential impact on the interpretation of the data."
   ]
  },
  {
   "cell_type": "code",
   "execution_count": null,
   "id": "2b1e24d8-824f-4962-8321-243e15204be5",
   "metadata": {},
   "outputs": [],
   "source": []
  }
 ],
 "metadata": {
  "kernelspec": {
   "display_name": "Python 3 (ipykernel)",
   "language": "python",
   "name": "python3"
  },
  "language_info": {
   "codemirror_mode": {
    "name": "ipython",
    "version": 3
   },
   "file_extension": ".py",
   "mimetype": "text/x-python",
   "name": "python",
   "nbconvert_exporter": "python",
   "pygments_lexer": "ipython3",
   "version": "3.10.8"
  }
 },
 "nbformat": 4,
 "nbformat_minor": 5
}
